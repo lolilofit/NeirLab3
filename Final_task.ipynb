{
 "cells": [
  {
   "cell_type": "code",
   "execution_count": 1,
   "metadata": {},
   "outputs": [],
   "source": [
    "# <img src=\"../images/sberbank.png\">\n",
    "# <center> Лабораторная 3 </center>\n",
    "## <center> Предсказание пола клиента по транзакциям</center>\n",
    "\n",
    "## Описание задачи \n",
    "### В роли метрики выступает [ROC AUC](https://dyakonov.org/2017/07/28/auc-roc-%D0%BF%D0%BB%D0%BE%D1%89%D0%B0%D0%B4%D1%8C-%D0%BF%D0%BE%D0%B4-%D0%BA%D1%80%D0%B8%D0%B2%D0%BE%D0%B9-%D0%BE%D1%88%D0%B8%D0%B1%D0%BE%D0%BA/), который и нужно будет оптимизировать."
   ]
  },
  {
   "cell_type": "code",
   "execution_count": 2,
   "metadata": {
    "ExecuteTime": {
     "end_time": "2019-03-05T17:34:52.054851Z",
     "start_time": "2019-03-05T17:34:51.515762Z"
    }
   },
   "outputs": [
    {
     "name": "stderr",
     "output_type": "stream",
     "text": [
      "C:\\Users\\darya\\AppData\\Local\\Temp/ipykernel_13596/3982866499.py:9: TqdmDeprecationWarning: This function will be removed in tqdm==5.0.0\n",
      "Please use `tqdm.notebook.*` instead of `tqdm._tqdm_notebook.*`\n",
      "  from tqdm._tqdm_notebook import tqdm_notebook\n"
     ]
    }
   ],
   "source": [
    "import pandas as pd\n",
    "import numpy as np\n",
    "import xgboost as xgb\n",
    "import re\n",
    "import matplotlib.pyplot as plt\n",
    "import lightgbm\n",
    "from statistics import mean\n",
    "\n",
    "from tqdm._tqdm_notebook import tqdm_notebook\n",
    "from warnings import filterwarnings\n",
    "\n",
    "%matplotlib inline\n",
    "filterwarnings('ignore')"
   ]
  },
  {
   "cell_type": "code",
   "execution_count": 3,
   "metadata": {
    "ExecuteTime": {
     "end_time": "2019-03-05T17:34:58.314241Z",
     "start_time": "2019-03-05T17:34:52.056205Z"
    },
    "scrolled": true
   },
   "outputs": [],
   "source": [
    "# Считываем данные\n",
    "tr_mcc_codes = pd.read_csv('data/tr_mcc_codes.csv', sep=';', index_col='mcc_code')\n",
    "tr_types = pd.read_csv('data/tr_types.csv', sep=';', index_col='tr_type')\n",
    "\n",
    "transactions = pd.read_csv('data/transactions.csv', index_col='customer_id')\n",
    "gender_train = pd.read_csv('data/gender_train.csv', index_col='customer_id')\n",
    "gender_test = pd.read_csv('data/gender_test.csv', index_col='customer_id')\n",
    "transactions_train = transactions.join(gender_train, how='inner')\n",
    "transactions_test = transactions.join(gender_test, how='inner')\n",
    "\n",
    "del transactions"
   ]
  },
  {
   "cell_type": "code",
   "execution_count": 4,
   "metadata": {},
   "outputs": [
    {
     "data": {
      "text/html": [
       "<div>\n",
       "<style scoped>\n",
       "    .dataframe tbody tr th:only-of-type {\n",
       "        vertical-align: middle;\n",
       "    }\n",
       "\n",
       "    .dataframe tbody tr th {\n",
       "        vertical-align: top;\n",
       "    }\n",
       "\n",
       "    .dataframe thead th {\n",
       "        text-align: right;\n",
       "    }\n",
       "</style>\n",
       "<table border=\"1\" class=\"dataframe\">\n",
       "  <thead>\n",
       "    <tr style=\"text-align: right;\">\n",
       "      <th></th>\n",
       "      <th>mcc_description</th>\n",
       "    </tr>\n",
       "    <tr>\n",
       "      <th>mcc_code</th>\n",
       "      <th></th>\n",
       "    </tr>\n",
       "  </thead>\n",
       "  <tbody>\n",
       "    <tr>\n",
       "      <th>742</th>\n",
       "      <td>Ветеринарные услуги</td>\n",
       "    </tr>\n",
       "    <tr>\n",
       "      <th>1711</th>\n",
       "      <td>Генеральные подрядчики по вентиляции, теплосна...</td>\n",
       "    </tr>\n",
       "    <tr>\n",
       "      <th>1731</th>\n",
       "      <td>Подрядчики по электричеству</td>\n",
       "    </tr>\n",
       "    <tr>\n",
       "      <th>1799</th>\n",
       "      <td>Подрядчики, специализированная торговля — нигд...</td>\n",
       "    </tr>\n",
       "    <tr>\n",
       "      <th>2741</th>\n",
       "      <td>Разнообразные издательства/печатное дело</td>\n",
       "    </tr>\n",
       "  </tbody>\n",
       "</table>\n",
       "</div>"
      ],
      "text/plain": [
       "                                            mcc_description\n",
       "mcc_code                                                   \n",
       "742                                     Ветеринарные услуги\n",
       "1711      Генеральные подрядчики по вентиляции, теплосна...\n",
       "1731                            Подрядчики по электричеству\n",
       "1799      Подрядчики, специализированная торговля — нигд...\n",
       "2741               Разнообразные издательства/печатное дело"
      ]
     },
     "execution_count": 4,
     "metadata": {},
     "output_type": "execute_result"
    }
   ],
   "source": [
    "tr_mcc_codes.head()"
   ]
  },
  {
   "cell_type": "code",
   "execution_count": 5,
   "metadata": {},
   "outputs": [],
   "source": [
    "def argmax(d):\n",
    "    max_value = -1\n",
    "    i = -1\n",
    "    for index in range(len(d)):\n",
    "        if d[index] > max_value:\n",
    "            max_value = d[index]\n",
    "            i = index\n",
    "    return i"
   ]
  },
  {
   "cell_type": "code",
   "execution_count": 6,
   "metadata": {
    "ExecuteTime": {
     "end_time": "2019-03-05T17:34:58.354996Z",
     "start_time": "2019-03-05T17:34:58.315591Z"
    }
   },
   "outputs": [],
   "source": [
    "# Функции, которыми можно пользоваться для построения классификатора, \n",
    "# оценки его результатов и построение прогноза для тестовой части пользователей\n",
    "\n",
    "# Cross-validation score (среднее значение метрики ROC AUC на тренировочных данных)\n",
    "def cv_score(params, train, y_true):\n",
    "    cv_res=lightgbm.cv(params, lightgbm.Dataset(train, y_true), early_stopping_rounds=10, \n",
    "                       num_boost_round=100, nfold=5, stratified=True, metrics=['auc'])\n",
    "    mean_auc = argmax(cv_res['auc-mean'])\n",
    "    mean_std = argmax(cv_res['auc-stdv'])\n",
    "    print('Cross-validation, ROC AUC: {:.3f}+-{:.3f}, Trees: {}'.format(cv_res['auc-mean'][mean_auc], cv_res['auc-stdv'][mean_std], mean_auc))\n",
    "\n",
    "# Построение модели + возврат результатов классификации тестовых пользователей\n",
    "def fit_predict(params, num_trees, train, test, target):\n",
    "    params['learning_rate'] = params['eta']\n",
    "    clf = lightgbm.train(params, lightgbm.Dataset(train.values, target, feature_name=list(train.columns)), \n",
    "                    num_boost_round=num_trees)\n",
    "    y_pred = clf.predict(test.values)\n",
    "    submission = pd.DataFrame(index=test.index, data=y_pred, columns=['probability'])\n",
    "    return clf, submission\n",
    "\n",
    "# Отрисовка важности переменных. Важность переменной - количество разбиений выборки, \n",
    "# в которых участвует данная переменная. Чем больше - тем она, вероятно, лучше \n",
    "def draw_feature_importances(clf, top_k=10):\n",
    "    plt.figure(figsize=(10, 10))\n",
    "    \n",
    "    print(clf.feature_importance())\n",
    "    feature_names = clf.feature_name()\n",
    "    importances = dict(sorted(zip(feature_names, clf.feature_importance()), key=lambda x: x[1]))\n",
    "    y_pos = np.arange(len(importances))\n",
    "    \n",
    "    plt.barh(y_pos, list(importances), align='center', color='green')\n",
    "    plt.yticks(y_pos, feature_names, fontsize=12)\n",
    "    plt.xticks(fontsize=12)\n",
    "    plt.xlabel('Feature importance', fontsize=15)\n",
    "    plt.title('Features importances, Sberbank Gender Prediction', fontsize=18)\n",
    "    plt.ylim(-0.5, len(importances) - 0.5)\n",
    "    plt.show()"
   ]
  },
  {
   "cell_type": "markdown",
   "metadata": {},
   "source": [
    "## Basic features\n",
    "Начнём с того, что сформируем базовые переменные по каждому пользователю. На этом этапе будем использовать стандартные агрегации, посчитанные на расходах и приходах клиента:\n",
    "- минимум\n",
    "- максимум\n",
    "- среднее\n",
    "- медиана\n",
    "- среднеквадратичное отклонение\n",
    "- количество\n",
    "\n",
    "Также параметры модели выберем стандартные, запишем их в словарь params, и будем использовать для дальнейшего построения модели (не забывайте, что с этим Вы можете тоже экспериментировать)."
   ]
  },
  {
   "cell_type": "code",
   "execution_count": 7,
   "metadata": {
    "ExecuteTime": {
     "end_time": "2019-03-05T17:34:58.362104Z",
     "start_time": "2019-03-05T17:34:58.356308Z"
    }
   },
   "outputs": [],
   "source": [
    "params = {\n",
    "    'eta': 0.1,\n",
    "#     'max_depth': 3,\n",
    "#     'subsample': 0.8,\n",
    "#     'colsample_bytree': 0.8,\n",
    "    \n",
    "#     'gamma': 0,\n",
    "#     'lambda': 0,\n",
    "#     'alpha': 0,\n",
    "#     'min_child_weight': 0,\n",
    "    \n",
    "    #'eval_metric': 'auc',\n",
    "#     'objective': 'binary:logistic' ,\n",
    "#     'booster': 'gblinear',\n",
    "#     'tree_method': 'approx'\n",
    "}"
   ]
  },
  {
   "cell_type": "code",
   "execution_count": 8,
   "metadata": {
    "ExecuteTime": {
     "end_time": "2019-03-05T17:35:41.272300Z",
     "start_time": "2019-03-05T17:34:58.363622Z"
    }
   },
   "outputs": [],
   "source": [
    "tqdm_notebook.pandas(desc=\"Progress:\")"
   ]
  },
  {
   "cell_type": "markdown",
   "metadata": {},
   "source": [
    "## Advanced features\n",
    "Добавим дополнительные переменные по каждому пользователю в модель. <br>\n",
    "Для этого будем анализировать дни недели, часы и состояние дня/ночи во время покупки - в каждом из случаев будем считать частоту транзакций в соответствующей категории относитеьно всех остальных категорий. <br>\n",
    "То есть если, например, клиент в 70% случае совершал ночные траты, то мы получим вектор [0.7, 0.3] для этого случая в качестве частот транзакций ночью/днём."
   ]
  },
  {
   "cell_type": "code",
   "execution_count": 9,
   "metadata": {
    "ExecuteTime": {
     "end_time": "2019-03-05T17:35:57.677748Z",
     "start_time": "2019-03-05T17:35:45.921444Z"
    }
   },
   "outputs": [],
   "source": [
    "for df in [transactions_train, transactions_test]:\n",
    "    df['day'] = df['tr_datetime'].str.split().apply(lambda x: int(x[0]) % 7)\n",
    "    df['hour'] = df['tr_datetime'].apply(lambda x: re.search(' \\d*', x).group(0)).astype(int)\n",
    "    df['night'] = ~df['hour'].between(6, 22).astype(int)"
   ]
  },
  {
   "cell_type": "code",
   "execution_count": 10,
   "metadata": {
    "ExecuteTime": {
     "end_time": "2019-03-05T17:35:57.687397Z",
     "start_time": "2019-03-05T17:35:57.678823Z"
    }
   },
   "outputs": [],
   "source": [
    "def features_creation_advanced(x): \n",
    "    features = []\n",
    "    features.append(pd.Series(x['day'].value_counts(normalize=True).add_prefix('day_')))\n",
    "    features.append(pd.Series(x['hour'].value_counts(normalize=True).add_prefix('hour_')))\n",
    "    features.append(pd.Series(x['night'].value_counts(normalize=True).add_prefix('night_')))\n",
    "    features.append(pd.Series(x[x['amount']>0]['amount'].agg(['min', 'max', 'mean', 'median', 'std', 'count'])\\\n",
    "                                                        .add_prefix('positive_transactions_')))\n",
    "    features.append(pd.Series(x[x['amount']<0]['amount'].agg(['min', 'max', 'mean', 'median', 'std', 'count'])\\\n",
    "                                                        .add_prefix('negative_transactions_')))\n",
    " \n",
    "    return pd.concat(features)"
   ]
  },
  {
   "cell_type": "code",
   "execution_count": 11,
   "metadata": {
    "ExecuteTime": {
     "end_time": "2019-03-05T17:37:19.784321Z",
     "start_time": "2019-03-05T17:35:57.688448Z"
    }
   },
   "outputs": [
    {
     "data": {
      "application/vnd.jupyter.widget-view+json": {
       "model_id": "8edb54e1b0b14780b9190ebbc64c2579",
       "version_major": 2,
       "version_minor": 0
      },
      "text/plain": [
       "Progress::   0%|          | 0/8400 [00:00<?, ?it/s]"
      ]
     },
     "metadata": {},
     "output_type": "display_data"
    },
    {
     "data": {
      "application/vnd.jupyter.widget-view+json": {
       "model_id": "ddf47a2f42804342bdde88a4007c0d92",
       "version_major": 2,
       "version_minor": 0
      },
      "text/plain": [
       "Progress::   0%|          | 0/3600 [00:00<?, ?it/s]"
      ]
     },
     "metadata": {},
     "output_type": "display_data"
    }
   ],
   "source": [
    "data_train = transactions_train.groupby(transactions_train.index)\\\n",
    "                               .progress_apply(features_creation_advanced).unstack(-1)\n",
    "data_test = transactions_test.groupby(transactions_test.index)\\\n",
    "                             .progress_apply(features_creation_advanced).unstack(-1)"
   ]
  },
  {
   "cell_type": "code",
   "execution_count": 12,
   "metadata": {},
   "outputs": [
    {
     "name": "stdout",
     "output_type": "stream",
     "text": [
      "<class 'pandas.core.frame.DataFrame'>\n",
      "Int64Index: 8400 entries, 22899 to 99999680\n",
      "Data columns (total 45 columns):\n",
      " #   Column                        Non-Null Count  Dtype  \n",
      "---  ------                        --------------  -----  \n",
      " 0   day_0                         8354 non-null   float64\n",
      " 1   day_1                         8314 non-null   float64\n",
      " 2   day_2                         8228 non-null   float64\n",
      " 3   day_3                         8348 non-null   float64\n",
      " 4   day_4                         8360 non-null   float64\n",
      " 5   day_5                         8364 non-null   float64\n",
      " 6   day_6                         8348 non-null   float64\n",
      " 7   hour_0                        6650 non-null   float64\n",
      " 8   hour_1                        3452 non-null   float64\n",
      " 9   hour_10                       8195 non-null   float64\n",
      " 10  hour_11                       8219 non-null   float64\n",
      " 11  hour_12                       8228 non-null   float64\n",
      " 12  hour_13                       8205 non-null   float64\n",
      " 13  hour_14                       8191 non-null   float64\n",
      " 14  hour_15                       8117 non-null   float64\n",
      " 15  hour_16                       8054 non-null   float64\n",
      " 16  hour_17                       7936 non-null   float64\n",
      " 17  hour_18                       7699 non-null   float64\n",
      " 18  hour_19                       7431 non-null   float64\n",
      " 19  hour_2                        3239 non-null   float64\n",
      " 20  hour_20                       6953 non-null   float64\n",
      " 21  hour_21                       6298 non-null   float64\n",
      " 22  hour_22                       5528 non-null   float64\n",
      " 23  hour_23                       4549 non-null   float64\n",
      " 24  hour_3                        3367 non-null   float64\n",
      " 25  hour_4                        3656 non-null   float64\n",
      " 26  hour_5                        4365 non-null   float64\n",
      " 27  hour_6                        5550 non-null   float64\n",
      " 28  hour_7                        6901 non-null   float64\n",
      " 29  hour_8                        7702 non-null   float64\n",
      " 30  hour_9                        8058 non-null   float64\n",
      " 31  negative_transactions_count   8400 non-null   float64\n",
      " 32  negative_transactions_max     8392 non-null   float64\n",
      " 33  negative_transactions_mean    8392 non-null   float64\n",
      " 34  negative_transactions_median  8392 non-null   float64\n",
      " 35  negative_transactions_min     8392 non-null   float64\n",
      " 36  negative_transactions_std     8384 non-null   float64\n",
      " 37  night_-1                      7619 non-null   float64\n",
      " 38  night_-2                      8399 non-null   float64\n",
      " 39  positive_transactions_count   8400 non-null   float64\n",
      " 40  positive_transactions_max     7721 non-null   float64\n",
      " 41  positive_transactions_mean    7721 non-null   float64\n",
      " 42  positive_transactions_median  7721 non-null   float64\n",
      " 43  positive_transactions_min     7721 non-null   float64\n",
      " 44  positive_transactions_std     7353 non-null   float64\n",
      "dtypes: float64(45)\n",
      "memory usage: 2.9 MB\n"
     ]
    }
   ],
   "source": [
    "data_train.info()"
   ]
  },
  {
   "cell_type": "code",
   "execution_count": 13,
   "metadata": {},
   "outputs": [
    {
     "data": {
      "text/plain": [
       "gender\n",
       "0         4687\n",
       "1         3713\n",
       "dtype: int64"
      ]
     },
     "execution_count": 13,
     "metadata": {},
     "output_type": "execute_result"
    }
   ],
   "source": [
    "gender_train.value_counts()"
   ]
  },
  {
   "cell_type": "code",
   "execution_count": 14,
   "metadata": {},
   "outputs": [
    {
     "name": "stdout",
     "output_type": "stream",
     "text": [
      "<class 'pandas.core.frame.DataFrame'>\n",
      "Int64Index: 3751083 entries, 22899 to 99999680\n",
      "Data columns (total 44 columns):\n",
      " #   Column                       Dtype  \n",
      "---  ------                       -----  \n",
      " 0   day_0                        float64\n",
      " 1   day_1                        float64\n",
      " 2   day_2                        float64\n",
      " 3   day_3                        float64\n",
      " 4   day_4                        float64\n",
      " 5   day_5                        float64\n",
      " 6   day_6                        float64\n",
      " 7   hour_0                       float64\n",
      " 8   hour_1                       float64\n",
      " 9   hour_10                      float64\n",
      " 10  hour_11                      float64\n",
      " 11  hour_12                      float64\n",
      " 12  hour_13                      float64\n",
      " 13  hour_14                      float64\n",
      " 14  hour_15                      float64\n",
      " 15  hour_16                      float64\n",
      " 16  hour_17                      float64\n",
      " 17  hour_18                      float64\n",
      " 18  hour_19                      float64\n",
      " 19  hour_2                       float64\n",
      " 20  hour_20                      float64\n",
      " 21  hour_21                      float64\n",
      " 22  hour_22                      float64\n",
      " 23  hour_23                      float64\n",
      " 24  hour_3                       float64\n",
      " 25  hour_4                       float64\n",
      " 26  hour_5                       float64\n",
      " 27  hour_6                       float64\n",
      " 28  hour_7                       float64\n",
      " 29  hour_8                       float64\n",
      " 30  hour_9                       float64\n",
      " 31  negative_transactions_count  float64\n",
      " 32  negative_transactions_max    float64\n",
      " 33  negative_transactions_mean   float64\n",
      " 34  negative_transactions_min    float64\n",
      " 35  negative_transactions_std    float64\n",
      " 36  night_-1                     float64\n",
      " 37  night_-2                     float64\n",
      " 38  positive_transactions_count  float64\n",
      " 39  positive_transactions_max    float64\n",
      " 40  positive_transactions_mean   float64\n",
      " 41  positive_transactions_min    float64\n",
      " 42  positive_transactions_std    float64\n",
      " 43  mcc_code                     int64  \n",
      "dtypes: float64(43), int64(1)\n",
      "memory usage: 1.3 GB\n"
     ]
    }
   ],
   "source": [
    "data_train = data_train.join(transactions_train, how='inner')\n",
    "data_train = data_train.drop(['tr_datetime', 'term_id', 'negative_transactions_median', 'positive_transactions_median', 'gender'], axis=1)\n",
    "# Не использовались по итогам обучения\n",
    "data_train = data_train.drop(['tr_type', 'amount', 'day', 'hour', 'night'], axis=1)\n",
    "data_train.info()"
   ]
  },
  {
   "cell_type": "code",
   "execution_count": 15,
   "metadata": {},
   "outputs": [],
   "source": [
    "data_test = data_test.join(transactions_test, how='inner')\n",
    "data_test = data_test.drop(['tr_datetime', 'term_id', 'negative_transactions_median', 'positive_transactions_median'], axis=1)\n",
    "data_test = data_test.drop(['tr_type', 'amount', 'day', 'hour', 'night'], axis=1)"
   ]
  },
  {
   "cell_type": "code",
   "execution_count": 16,
   "metadata": {},
   "outputs": [
    {
     "name": "stdout",
     "output_type": "stream",
     "text": [
      "<class 'pandas.core.frame.DataFrame'>\n",
      "Int64Index: 1642254 entries, 6815 to 99991245\n",
      "Data columns (total 44 columns):\n",
      " #   Column                       Non-Null Count    Dtype  \n",
      "---  ------                       --------------    -----  \n",
      " 0   day_0                        1641952 non-null  float64\n",
      " 1   day_1                        1641374 non-null  float64\n",
      " 2   day_2                        1639880 non-null  float64\n",
      " 3   day_3                        1641952 non-null  float64\n",
      " 4   day_4                        1641965 non-null  float64\n",
      " 5   day_5                        1642034 non-null  float64\n",
      " 6   day_6                        1641885 non-null  float64\n",
      " 7   hour_0                       1492535 non-null  float64\n",
      " 8   hour_1                       940071 non-null   float64\n",
      " 9   hour_10                      1639020 non-null  float64\n",
      " 10  hour_11                      1638833 non-null  float64\n",
      " 11  hour_12                      1639201 non-null  float64\n",
      " 12  hour_13                      1638731 non-null  float64\n",
      " 13  hour_14                      1637598 non-null  float64\n",
      " 14  hour_15                      1634061 non-null  float64\n",
      " 15  hour_16                      1628263 non-null  float64\n",
      " 16  hour_17                      1614769 non-null  float64\n",
      " 17  hour_18                      1594530 non-null  float64\n",
      " 18  hour_19                      1563555 non-null  float64\n",
      " 19  hour_2                       924300 non-null   float64\n",
      " 20  hour_20                      1519898 non-null  float64\n",
      " 21  hour_21                      1438263 non-null  float64\n",
      " 22  hour_22                      1300642 non-null  float64\n",
      " 23  hour_23                      1183132 non-null  float64\n",
      " 24  hour_3                       944265 non-null   float64\n",
      " 25  hour_4                       1006905 non-null  float64\n",
      " 26  hour_5                       1147980 non-null  float64\n",
      " 27  hour_6                       1338889 non-null  float64\n",
      " 28  hour_7                       1517914 non-null  float64\n",
      " 29  hour_8                       1608200 non-null  float64\n",
      " 30  hour_9                       1632383 non-null  float64\n",
      " 31  negative_transactions_count  1642254 non-null  float64\n",
      " 32  negative_transactions_max    1642249 non-null  float64\n",
      " 33  negative_transactions_mean   1642249 non-null  float64\n",
      " 34  negative_transactions_min    1642249 non-null  float64\n",
      " 35  negative_transactions_std    1642247 non-null  float64\n",
      " 36  night_-1                     1597737 non-null  float64\n",
      " 37  night_-2                     1642133 non-null  float64\n",
      " 38  positive_transactions_count  1642254 non-null  float64\n",
      " 39  positive_transactions_max    1601379 non-null  float64\n",
      " 40  positive_transactions_mean   1601379 non-null  float64\n",
      " 41  positive_transactions_min    1601379 non-null  float64\n",
      " 42  positive_transactions_std    1566404 non-null  float64\n",
      " 43  mcc_code                     1642254 non-null  int64  \n",
      "dtypes: float64(43), int64(1)\n",
      "memory usage: 563.8 MB\n"
     ]
    }
   ],
   "source": [
    "data_test.info()"
   ]
  },
  {
   "cell_type": "code",
   "execution_count": 17,
   "metadata": {
    "ExecuteTime": {
     "end_time": "2019-03-05T17:37:27.200528Z",
     "start_time": "2019-03-05T17:37:19.785535Z"
    }
   },
   "outputs": [
    {
     "name": "stdout",
     "output_type": "stream",
     "text": [
      "[LightGBM] [Warning] Auto-choosing row-wise multi-threading, the overhead of testing was 0.096228 seconds.\n",
      "You can set `force_row_wise=true` to remove the overhead.\n",
      "And if memory is not enough, you can set `force_col_wise=true`.\n",
      "[LightGBM] [Info] Total Bins 11076\n",
      "[LightGBM] [Info] Number of data points in the train set: 3000866, number of used features: 44\n",
      "[LightGBM] [Warning] Auto-choosing col-wise multi-threading, the overhead of testing was 0.303641 seconds.\n",
      "You can set `force_col_wise=true` to remove the overhead.\n",
      "[LightGBM] [Info] Total Bins 11076\n",
      "[LightGBM] [Info] Number of data points in the train set: 3000866, number of used features: 44\n",
      "[LightGBM] [Warning] Auto-choosing row-wise multi-threading, the overhead of testing was 0.081049 seconds.\n",
      "You can set `force_row_wise=true` to remove the overhead.\n",
      "And if memory is not enough, you can set `force_col_wise=true`.\n",
      "[LightGBM] [Info] Total Bins 11076\n",
      "[LightGBM] [Info] Number of data points in the train set: 3000866, number of used features: 44\n",
      "[LightGBM] [Warning] Auto-choosing col-wise multi-threading, the overhead of testing was 0.318889 seconds.\n",
      "You can set `force_col_wise=true` to remove the overhead.\n",
      "[LightGBM] [Info] Total Bins 11076\n",
      "[LightGBM] [Info] Number of data points in the train set: 3000867, number of used features: 44\n",
      "[LightGBM] [Warning] Auto-choosing row-wise multi-threading, the overhead of testing was 0.103135 seconds.\n",
      "You can set `force_row_wise=true` to remove the overhead.\n",
      "And if memory is not enough, you can set `force_col_wise=true`.\n",
      "[LightGBM] [Info] Total Bins 11076\n",
      "[LightGBM] [Info] Number of data points in the train set: 3000867, number of used features: 44\n",
      "[LightGBM] [Info] Start training from score 0.476900\n",
      "[LightGBM] [Info] Start training from score 0.476900\n",
      "[LightGBM] [Info] Start training from score 0.476900\n",
      "[LightGBM] [Info] Start training from score 0.476901\n",
      "[LightGBM] [Info] Start training from score 0.476901\n",
      "Cross-validation, ROC AUC: 0.980+-0.004, Trees: 99\n"
     ]
    }
   ],
   "source": [
    "target = data_train.join(gender_train, how='inner')['gender']\n",
    "\n",
    "cv_score(params, data_train, target)"
   ]
  },
  {
   "cell_type": "code",
   "execution_count": 18,
   "metadata": {
    "ExecuteTime": {
     "end_time": "2019-03-05T17:37:28.307548Z",
     "start_time": "2019-03-05T17:37:27.205214Z"
    }
   },
   "outputs": [
    {
     "name": "stdout",
     "output_type": "stream",
     "text": [
      "[LightGBM] [Warning] learning_rate is set=0.1, eta=0.1 will be ignored. Current value: learning_rate=0.1\n",
      "[LightGBM] [Warning] learning_rate is set=0.1, eta=0.1 will be ignored. Current value: learning_rate=0.1\n",
      "[LightGBM] [Warning] Auto-choosing row-wise multi-threading, the overhead of testing was 0.099496 seconds.\n",
      "You can set `force_row_wise=true` to remove the overhead.\n",
      "And if memory is not enough, you can set `force_col_wise=true`.\n",
      "[LightGBM] [Info] Total Bins 11076\n",
      "[LightGBM] [Info] Number of data points in the train set: 3751083, number of used features: 44\n",
      "[LightGBM] [Info] Start training from score 0.476900\n"
     ]
    }
   ],
   "source": [
    "clf, submission = fit_predict(params, 99, data_train, data_test, target)"
   ]
  },
  {
   "cell_type": "code",
   "execution_count": 19,
   "metadata": {
    "ExecuteTime": {
     "end_time": "2019-03-05T17:37:28.426836Z",
     "start_time": "2019-03-05T17:37:28.308620Z"
    }
   },
   "outputs": [
    {
     "name": "stdout",
     "output_type": "stream",
     "text": [
      "[ 60  65  76  64  62  67  62  80  75  71  71  55  79  71  70  66  77  77\n",
      "  62  71  88  66  78  73  51  65  86  85  91  82  61 107  56  79  46  52\n",
      "  52   8  87  63  71  63  55  24]\n"
     ]
    },
    {
     "data": {
      "image/png": "[encoded data removed]",
      "text/plain": [
       "<Figure size 720x720 with 1 Axes>"
      ]
     },
     "metadata": {
      "needs_background": "light"
     },
     "output_type": "display_data"
    }
   ],
   "source": [
    "draw_feature_importances(clf, 10)"
   ]
  },
  {
   "cell_type": "markdown",
   "metadata": {
    "heading_collapsed": true
   },
   "source": [
    "### Добавление новых переменных улучшило наши результаты ROC AUC с 62.5% до 68.2%, на тестовой выборке результат будет аналогичным, так что мы явно не переобучились. При этом есть куда стремиться!"
   ]
  },
  {
   "cell_type": "markdown",
   "metadata": {},
   "source": [
    "# (!) Цель задания:\n",
    "## Полученная модель должна иметь ROC AUC на Public-части тестовой выборки (на лидерборде) не менее 80%."
   ]
  }
 ],
 "metadata": {
  "hide_input": false,
  "kernelspec": {
   "display_name": "Python 3 (ipykernel)",
   "language": "python",
   "name": "python3"
  },
  "language_info": {
   "codemirror_mode": {
    "name": "ipython",
    "version": 3
   },
   "file_extension": ".py",
   "mimetype": "text/x-python",
   "name": "python",
   "nbconvert_exporter": "python",
   "pygments_lexer": "ipython3",
   "version": "3.9.7"
  },
  "varInspector": {
   "cols": {
    "lenName": 16,
    "lenType": 16,
    "lenVar": 40
   },
   "kernels_config": {
    "python": {
     "delete_cmd_postfix": "",
     "delete_cmd_prefix": "del ",
     "library": "var_list.py",
     "varRefreshCmd": "print(var_dic_list())"
    },
    "r": {
     "delete_cmd_postfix": ") ",
     "delete_cmd_prefix": "rm(",
     "library": "var_list.r",
     "varRefreshCmd": "cat(var_dic_list()) "
    }
   },
   "types_to_exclude": [
    "module",
    "function",
    "builtin_function_or_method",
    "instance",
    "_Feature"
   ],
   "window_display": false
  }
 },
 "nbformat": 4,
 "nbformat_minor": 4
}
